{
 "cells": [
  {
   "cell_type": "markdown",
   "metadata": {},
   "source": [
    "# Analysis of attrition\n",
    "\n",
    "https://www.kaggle.io/svf/441884/647b8c07ae7a081c547af6d9324351c1/__results__.html#"
   ]
  },
  {
   "cell_type": "markdown",
   "metadata": {},
   "source": [
    "## Import libraries"
   ]
  },
  {
   "cell_type": "code",
   "execution_count": 1,
   "metadata": {
    "collapsed": false
   },
   "outputs": [
    {
     "name": "stderr",
     "output_type": "stream",
     "text": [
      "/Users/yingjiang/miniconda2/lib/python2.7/site-packages/sklearn/cross_validation.py:44: DeprecationWarning: This module was deprecated in version 0.18 in favor of the model_selection module into which all the refactored classes and functions are moved. Also note that the interface of the new CV iterators are different from that of this module. This module will be removed in 0.20.\n",
      "  \"This module will be removed in 0.20.\", DeprecationWarning)\n"
     ]
    }
   ],
   "source": [
    "import zipfile\n",
    "import os\n",
    "import random\n",
    "import collections\n",
    "\n",
    "import numpy as np\n",
    "import pandas as pd\n",
    "import matplotlib.pyplot as plt\n",
    "import seaborn as sns\n",
    "from sklearn import model_selection\n",
    "from sklearn import cross_validation\n",
    "from sklearn import preprocessing\n",
    "from sklearn import svm\n",
    "from sklearn import linear_model\n",
    "from sklearn import tree\n",
    "from sklearn import ensemble # RandomForestClassifier\n",
    "from sklearn.naive_bayes import GaussianNB\n",
    "from sklearn import metrics\n",
    "from sklearn.feature_selection import SelectFromModel\n",
    "%matplotlib inline"
   ]
  },
  {
   "cell_type": "code",
   "execution_count": 2,
   "metadata": {
    "collapsed": false
   },
   "outputs": [
    {
     "data": {
      "text/plain": [
       "'0.18.1'"
      ]
     },
     "execution_count": 2,
     "metadata": {},
     "output_type": "execute_result"
    }
   ],
   "source": [
    "import sklearn\n",
    "sklearn.__version__"
   ]
  },
  {
   "cell_type": "markdown",
   "metadata": {},
   "source": [
    "## User defined functions"
   ]
  },
  {
   "cell_type": "code",
   "execution_count": 3,
   "metadata": {
    "collapsed": false
   },
   "outputs": [],
   "source": [
    "def performCV(X_train, Y_train, cv, model):\n",
    "    Y_pred = []\n",
    "    Y_true = []\n",
    "    for trainIdx, cvIdx in cv:\n",
    "        Y_pred.append(model.fit(X_train.iloc[trainIdx], Y_train.iloc[trainIdx]).predict_proba(X_train.iloc[cvIdx]))\n",
    "        Y_true.append(Y_train.iloc[cvIdx])\n",
    "    return Y_pred, Y_true\n",
    "        \n",
    "def unpackCVResults(Y_pred, Y_true):\n",
    "    Y_pred_unpack = []\n",
    "    Y_true_unpack = []\n",
    "    for yp, yt in zip(Y_pred, Y_true):\n",
    "        Y_pred_unpack.append([pred_val.argmax() for pred_val in yp])\n",
    "        Y_true_unpack.append(list(yt.values))\n",
    "    return Y_pred_unpack, Y_true_unpack\n",
    "\n",
    "def getCVScores(Y_pred_unpack, Y_true_unpack):\n",
    "    cvScore_Acc = []\n",
    "    cvScore_Sens = []\n",
    "    cvScore_Spec = []\n",
    "    cvScore_Prec = []\n",
    "    for yp, yt in zip(Y_pred_unpack, Y_true_unpack):\n",
    "        cm = metrics.confusion_matrix(y_true = yt, y_pred = yp, labels=None)\n",
    "        accuracy, sensitivity, specificity, precision = evalModel(cm)\n",
    "        ## Alternative way of calculating accuracy instead of through cm:\n",
    "        # match = [i for i, j in zip(Y_pred0, Y_true0) if i == j]\n",
    "        # len(match) / float(len(Y_pred0))\n",
    "        cvScore_Acc.append(accuracy)\n",
    "        cvScore_Sens.append(sensitivity)\n",
    "        cvScore_Spec.append(specificity)\n",
    "        cvScore_Prec.append(precision)\n",
    "    cvScore = pd.DataFrame({\n",
    "            'accuracy': cvScore_Acc,\n",
    "            'sensitivity': cvScore_Sens,\n",
    "            'specificity': cvScore_Spec,\n",
    "            'precision': cvScore_Prec,\n",
    "            'recall': cvScore_Sens\n",
    "        })\n",
    "    return cvScore\n",
    "\n",
    "def evalModel(cm):\n",
    "    TN = cm[0][0]\n",
    "    FP = cm[0][1]\n",
    "    FN = cm[1][0]\n",
    "    TP = cm[1][1]\n",
    "    P = FN + TP\n",
    "    N = TN + FP\n",
    "    Acc = (TN + TP) / float(P + N)\n",
    "    sensitivity = TP / float(P)\n",
    "    specificity = TN / float(N)\n",
    "    precision = TP / float(TP+FP)\n",
    "    NPV = TN / float(TN+FN)\n",
    "    FPR = FP / float(FP+TN)\n",
    "    FDR = FP / float(FP+TP)\n",
    "    F1 = 2*TP / float(2*TP + FP + FN)\n",
    "    return Acc, sensitivity, specificity, precision\n",
    "\n"
   ]
  },
  {
   "cell_type": "markdown",
   "metadata": {},
   "source": [
    "## Load data"
   ]
  },
  {
   "cell_type": "code",
   "execution_count": 4,
   "metadata": {
    "collapsed": true
   },
   "outputs": [],
   "source": [
    "zip_ref = zipfile.ZipFile('human-resources-analytics.zip', 'r')\n",
    "zip_ref.extractall()\n",
    "zip_ref.close()"
   ]
  },
  {
   "cell_type": "code",
   "execution_count": 5,
   "metadata": {
    "collapsed": false
   },
   "outputs": [
    {
     "data": {
      "text/plain": [
       "['.git',\n",
       " '.ipynb_checkpoints',\n",
       " 'Attrition.ipynb',\n",
       " 'HR_comma_sep.csv',\n",
       " 'human-resources-analytics.zip']"
      ]
     },
     "execution_count": 5,
     "metadata": {},
     "output_type": "execute_result"
    }
   ],
   "source": [
    "os.listdir(os.getcwd())"
   ]
  },
  {
   "cell_type": "code",
   "execution_count": 6,
   "metadata": {
    "collapsed": true
   },
   "outputs": [],
   "source": [
    "HRdata = pd.read_csv('HR_comma_sep.csv', error_bad_lines=False)"
   ]
  },
  {
   "cell_type": "code",
   "execution_count": 7,
   "metadata": {
    "collapsed": false,
    "scrolled": true
   },
   "outputs": [
    {
     "data": {
      "text/html": [
       "<div>\n",
       "<table border=\"1\" class=\"dataframe\">\n",
       "  <thead>\n",
       "    <tr style=\"text-align: right;\">\n",
       "      <th></th>\n",
       "      <th>satisfaction_level</th>\n",
       "      <th>last_evaluation</th>\n",
       "      <th>number_project</th>\n",
       "      <th>average_montly_hours</th>\n",
       "      <th>time_spend_company</th>\n",
       "      <th>Work_accident</th>\n",
       "      <th>left</th>\n",
       "      <th>promotion_last_5years</th>\n",
       "      <th>sales</th>\n",
       "      <th>salary</th>\n",
       "    </tr>\n",
       "  </thead>\n",
       "  <tbody>\n",
       "    <tr>\n",
       "      <th>0</th>\n",
       "      <td>0.38</td>\n",
       "      <td>0.53</td>\n",
       "      <td>2</td>\n",
       "      <td>157</td>\n",
       "      <td>3</td>\n",
       "      <td>0</td>\n",
       "      <td>1</td>\n",
       "      <td>0</td>\n",
       "      <td>sales</td>\n",
       "      <td>low</td>\n",
       "    </tr>\n",
       "    <tr>\n",
       "      <th>1</th>\n",
       "      <td>0.80</td>\n",
       "      <td>0.86</td>\n",
       "      <td>5</td>\n",
       "      <td>262</td>\n",
       "      <td>6</td>\n",
       "      <td>0</td>\n",
       "      <td>1</td>\n",
       "      <td>0</td>\n",
       "      <td>sales</td>\n",
       "      <td>medium</td>\n",
       "    </tr>\n",
       "    <tr>\n",
       "      <th>2</th>\n",
       "      <td>0.11</td>\n",
       "      <td>0.88</td>\n",
       "      <td>7</td>\n",
       "      <td>272</td>\n",
       "      <td>4</td>\n",
       "      <td>0</td>\n",
       "      <td>1</td>\n",
       "      <td>0</td>\n",
       "      <td>sales</td>\n",
       "      <td>medium</td>\n",
       "    </tr>\n",
       "    <tr>\n",
       "      <th>3</th>\n",
       "      <td>0.72</td>\n",
       "      <td>0.87</td>\n",
       "      <td>5</td>\n",
       "      <td>223</td>\n",
       "      <td>5</td>\n",
       "      <td>0</td>\n",
       "      <td>1</td>\n",
       "      <td>0</td>\n",
       "      <td>sales</td>\n",
       "      <td>low</td>\n",
       "    </tr>\n",
       "    <tr>\n",
       "      <th>4</th>\n",
       "      <td>0.37</td>\n",
       "      <td>0.52</td>\n",
       "      <td>2</td>\n",
       "      <td>159</td>\n",
       "      <td>3</td>\n",
       "      <td>0</td>\n",
       "      <td>1</td>\n",
       "      <td>0</td>\n",
       "      <td>sales</td>\n",
       "      <td>low</td>\n",
       "    </tr>\n",
       "  </tbody>\n",
       "</table>\n",
       "</div>"
      ],
      "text/plain": [
       "   satisfaction_level  last_evaluation  number_project  average_montly_hours  \\\n",
       "0                0.38             0.53               2                   157   \n",
       "1                0.80             0.86               5                   262   \n",
       "2                0.11             0.88               7                   272   \n",
       "3                0.72             0.87               5                   223   \n",
       "4                0.37             0.52               2                   159   \n",
       "\n",
       "   time_spend_company  Work_accident  left  promotion_last_5years  sales  \\\n",
       "0                   3              0     1                      0  sales   \n",
       "1                   6              0     1                      0  sales   \n",
       "2                   4              0     1                      0  sales   \n",
       "3                   5              0     1                      0  sales   \n",
       "4                   3              0     1                      0  sales   \n",
       "\n",
       "   salary  \n",
       "0     low  \n",
       "1  medium  \n",
       "2  medium  \n",
       "3     low  \n",
       "4     low  "
      ]
     },
     "execution_count": 7,
     "metadata": {},
     "output_type": "execute_result"
    }
   ],
   "source": [
    "HRdata.head()"
   ]
  },
  {
   "cell_type": "markdown",
   "metadata": {},
   "source": [
    "## Explore data"
   ]
  },
  {
   "cell_type": "code",
   "execution_count": 8,
   "metadata": {
    "collapsed": false
   },
   "outputs": [
    {
     "data": {
      "text/plain": [
       "array(['sales', 'accounting', 'hr', 'technical', 'support', 'management',\n",
       "       'IT', 'product_mng', 'marketing', 'RandD'], dtype=object)"
      ]
     },
     "execution_count": 8,
     "metadata": {},
     "output_type": "execute_result"
    }
   ],
   "source": [
    "HRdata.sales.unique()"
   ]
  },
  {
   "cell_type": "code",
   "execution_count": 9,
   "metadata": {
    "collapsed": false
   },
   "outputs": [
    {
     "data": {
      "text/html": [
       "<div>\n",
       "<table border=\"1\" class=\"dataframe\">\n",
       "  <thead>\n",
       "    <tr style=\"text-align: right;\">\n",
       "      <th></th>\n",
       "      <th>satisfaction_level</th>\n",
       "      <th>last_evaluation</th>\n",
       "      <th>number_project</th>\n",
       "      <th>average_montly_hours</th>\n",
       "      <th>time_spend_company</th>\n",
       "      <th>Work_accident</th>\n",
       "      <th>left</th>\n",
       "      <th>promotion_last_5years</th>\n",
       "    </tr>\n",
       "  </thead>\n",
       "  <tbody>\n",
       "    <tr>\n",
       "      <th>satisfaction_level</th>\n",
       "      <td>1.000000</td>\n",
       "      <td>0.105021</td>\n",
       "      <td>-0.142970</td>\n",
       "      <td>-0.020048</td>\n",
       "      <td>-0.100866</td>\n",
       "      <td>0.058697</td>\n",
       "      <td>-0.388375</td>\n",
       "      <td>0.025605</td>\n",
       "    </tr>\n",
       "    <tr>\n",
       "      <th>last_evaluation</th>\n",
       "      <td>0.105021</td>\n",
       "      <td>1.000000</td>\n",
       "      <td>0.349333</td>\n",
       "      <td>0.339742</td>\n",
       "      <td>0.131591</td>\n",
       "      <td>-0.007104</td>\n",
       "      <td>0.006567</td>\n",
       "      <td>-0.008684</td>\n",
       "    </tr>\n",
       "    <tr>\n",
       "      <th>number_project</th>\n",
       "      <td>-0.142970</td>\n",
       "      <td>0.349333</td>\n",
       "      <td>1.000000</td>\n",
       "      <td>0.417211</td>\n",
       "      <td>0.196786</td>\n",
       "      <td>-0.004741</td>\n",
       "      <td>0.023787</td>\n",
       "      <td>-0.006064</td>\n",
       "    </tr>\n",
       "    <tr>\n",
       "      <th>average_montly_hours</th>\n",
       "      <td>-0.020048</td>\n",
       "      <td>0.339742</td>\n",
       "      <td>0.417211</td>\n",
       "      <td>1.000000</td>\n",
       "      <td>0.127755</td>\n",
       "      <td>-0.010143</td>\n",
       "      <td>0.071287</td>\n",
       "      <td>-0.003544</td>\n",
       "    </tr>\n",
       "    <tr>\n",
       "      <th>time_spend_company</th>\n",
       "      <td>-0.100866</td>\n",
       "      <td>0.131591</td>\n",
       "      <td>0.196786</td>\n",
       "      <td>0.127755</td>\n",
       "      <td>1.000000</td>\n",
       "      <td>0.002120</td>\n",
       "      <td>0.144822</td>\n",
       "      <td>0.067433</td>\n",
       "    </tr>\n",
       "    <tr>\n",
       "      <th>Work_accident</th>\n",
       "      <td>0.058697</td>\n",
       "      <td>-0.007104</td>\n",
       "      <td>-0.004741</td>\n",
       "      <td>-0.010143</td>\n",
       "      <td>0.002120</td>\n",
       "      <td>1.000000</td>\n",
       "      <td>-0.154622</td>\n",
       "      <td>0.039245</td>\n",
       "    </tr>\n",
       "    <tr>\n",
       "      <th>left</th>\n",
       "      <td>-0.388375</td>\n",
       "      <td>0.006567</td>\n",
       "      <td>0.023787</td>\n",
       "      <td>0.071287</td>\n",
       "      <td>0.144822</td>\n",
       "      <td>-0.154622</td>\n",
       "      <td>1.000000</td>\n",
       "      <td>-0.061788</td>\n",
       "    </tr>\n",
       "    <tr>\n",
       "      <th>promotion_last_5years</th>\n",
       "      <td>0.025605</td>\n",
       "      <td>-0.008684</td>\n",
       "      <td>-0.006064</td>\n",
       "      <td>-0.003544</td>\n",
       "      <td>0.067433</td>\n",
       "      <td>0.039245</td>\n",
       "      <td>-0.061788</td>\n",
       "      <td>1.000000</td>\n",
       "    </tr>\n",
       "  </tbody>\n",
       "</table>\n",
       "</div>"
      ],
      "text/plain": [
       "                       satisfaction_level  last_evaluation  number_project  \\\n",
       "satisfaction_level               1.000000         0.105021       -0.142970   \n",
       "last_evaluation                  0.105021         1.000000        0.349333   \n",
       "number_project                  -0.142970         0.349333        1.000000   \n",
       "average_montly_hours            -0.020048         0.339742        0.417211   \n",
       "time_spend_company              -0.100866         0.131591        0.196786   \n",
       "Work_accident                    0.058697        -0.007104       -0.004741   \n",
       "left                            -0.388375         0.006567        0.023787   \n",
       "promotion_last_5years            0.025605        -0.008684       -0.006064   \n",
       "\n",
       "                       average_montly_hours  time_spend_company  \\\n",
       "satisfaction_level                -0.020048           -0.100866   \n",
       "last_evaluation                    0.339742            0.131591   \n",
       "number_project                     0.417211            0.196786   \n",
       "average_montly_hours               1.000000            0.127755   \n",
       "time_spend_company                 0.127755            1.000000   \n",
       "Work_accident                     -0.010143            0.002120   \n",
       "left                               0.071287            0.144822   \n",
       "promotion_last_5years             -0.003544            0.067433   \n",
       "\n",
       "                       Work_accident      left  promotion_last_5years  \n",
       "satisfaction_level          0.058697 -0.388375               0.025605  \n",
       "last_evaluation            -0.007104  0.006567              -0.008684  \n",
       "number_project             -0.004741  0.023787              -0.006064  \n",
       "average_montly_hours       -0.010143  0.071287              -0.003544  \n",
       "time_spend_company          0.002120  0.144822               0.067433  \n",
       "Work_accident               1.000000 -0.154622               0.039245  \n",
       "left                       -0.154622  1.000000              -0.061788  \n",
       "promotion_last_5years       0.039245 -0.061788               1.000000  "
      ]
     },
     "execution_count": 9,
     "metadata": {},
     "output_type": "execute_result"
    }
   ],
   "source": [
    "HRdata.corr()"
   ]
  },
  {
   "cell_type": "markdown",
   "metadata": {},
   "source": [
    "On first inspection, attrition is most correlated to satisfaction level, time spent in company.\n",
    "Slightly correlated to monthly hours, number of projects and promotion.\n",
    "Moderately correlated to work accident occurrence, but this attrition mechanism could be different."
   ]
  },
  {
   "cell_type": "code",
   "execution_count": 10,
   "metadata": {
    "collapsed": false
   },
   "outputs": [],
   "source": [
    "HRdata[['salesCat', 'salaryCat']] = HRdata[['sales', 'salary']].apply(preprocessing.LabelEncoder().fit_transform)"
   ]
  },
  {
   "cell_type": "code",
   "execution_count": 11,
   "metadata": {
    "collapsed": false
   },
   "outputs": [
    {
     "data": {
      "text/html": [
       "<div>\n",
       "<table border=\"1\" class=\"dataframe\">\n",
       "  <thead>\n",
       "    <tr style=\"text-align: right;\">\n",
       "      <th></th>\n",
       "      <th>satisfaction_level</th>\n",
       "      <th>last_evaluation</th>\n",
       "      <th>number_project</th>\n",
       "      <th>average_montly_hours</th>\n",
       "      <th>time_spend_company</th>\n",
       "      <th>Work_accident</th>\n",
       "      <th>left</th>\n",
       "      <th>promotion_last_5years</th>\n",
       "      <th>sales</th>\n",
       "      <th>salary</th>\n",
       "      <th>salesCat</th>\n",
       "      <th>salaryCat</th>\n",
       "    </tr>\n",
       "  </thead>\n",
       "  <tbody>\n",
       "    <tr>\n",
       "      <th>0</th>\n",
       "      <td>0.38</td>\n",
       "      <td>0.53</td>\n",
       "      <td>2</td>\n",
       "      <td>157</td>\n",
       "      <td>3</td>\n",
       "      <td>0</td>\n",
       "      <td>1</td>\n",
       "      <td>0</td>\n",
       "      <td>sales</td>\n",
       "      <td>low</td>\n",
       "      <td>7</td>\n",
       "      <td>1</td>\n",
       "    </tr>\n",
       "    <tr>\n",
       "      <th>1</th>\n",
       "      <td>0.80</td>\n",
       "      <td>0.86</td>\n",
       "      <td>5</td>\n",
       "      <td>262</td>\n",
       "      <td>6</td>\n",
       "      <td>0</td>\n",
       "      <td>1</td>\n",
       "      <td>0</td>\n",
       "      <td>sales</td>\n",
       "      <td>medium</td>\n",
       "      <td>7</td>\n",
       "      <td>2</td>\n",
       "    </tr>\n",
       "    <tr>\n",
       "      <th>2</th>\n",
       "      <td>0.11</td>\n",
       "      <td>0.88</td>\n",
       "      <td>7</td>\n",
       "      <td>272</td>\n",
       "      <td>4</td>\n",
       "      <td>0</td>\n",
       "      <td>1</td>\n",
       "      <td>0</td>\n",
       "      <td>sales</td>\n",
       "      <td>medium</td>\n",
       "      <td>7</td>\n",
       "      <td>2</td>\n",
       "    </tr>\n",
       "    <tr>\n",
       "      <th>3</th>\n",
       "      <td>0.72</td>\n",
       "      <td>0.87</td>\n",
       "      <td>5</td>\n",
       "      <td>223</td>\n",
       "      <td>5</td>\n",
       "      <td>0</td>\n",
       "      <td>1</td>\n",
       "      <td>0</td>\n",
       "      <td>sales</td>\n",
       "      <td>low</td>\n",
       "      <td>7</td>\n",
       "      <td>1</td>\n",
       "    </tr>\n",
       "    <tr>\n",
       "      <th>4</th>\n",
       "      <td>0.37</td>\n",
       "      <td>0.52</td>\n",
       "      <td>2</td>\n",
       "      <td>159</td>\n",
       "      <td>3</td>\n",
       "      <td>0</td>\n",
       "      <td>1</td>\n",
       "      <td>0</td>\n",
       "      <td>sales</td>\n",
       "      <td>low</td>\n",
       "      <td>7</td>\n",
       "      <td>1</td>\n",
       "    </tr>\n",
       "  </tbody>\n",
       "</table>\n",
       "</div>"
      ],
      "text/plain": [
       "   satisfaction_level  last_evaluation  number_project  average_montly_hours  \\\n",
       "0                0.38             0.53               2                   157   \n",
       "1                0.80             0.86               5                   262   \n",
       "2                0.11             0.88               7                   272   \n",
       "3                0.72             0.87               5                   223   \n",
       "4                0.37             0.52               2                   159   \n",
       "\n",
       "   time_spend_company  Work_accident  left  promotion_last_5years  sales  \\\n",
       "0                   3              0     1                      0  sales   \n",
       "1                   6              0     1                      0  sales   \n",
       "2                   4              0     1                      0  sales   \n",
       "3                   5              0     1                      0  sales   \n",
       "4                   3              0     1                      0  sales   \n",
       "\n",
       "   salary  salesCat  salaryCat  \n",
       "0     low         7          1  \n",
       "1  medium         7          2  \n",
       "2  medium         7          2  \n",
       "3     low         7          1  \n",
       "4     low         7          1  "
      ]
     },
     "execution_count": 11,
     "metadata": {},
     "output_type": "execute_result"
    }
   ],
   "source": [
    "HRdata.head()"
   ]
  },
  {
   "cell_type": "code",
   "execution_count": 12,
   "metadata": {
    "collapsed": false
   },
   "outputs": [
    {
     "data": {
      "text/plain": [
       "Index([u'satisfaction_level', u'last_evaluation', u'number_project',\n",
       "       u'average_montly_hours', u'time_spend_company', u'Work_accident',\n",
       "       u'left', u'promotion_last_5years', u'sales', u'salary', u'salesCat',\n",
       "       u'salaryCat'],\n",
       "      dtype='object')"
      ]
     },
     "execution_count": 12,
     "metadata": {},
     "output_type": "execute_result"
    }
   ],
   "source": [
    "HRdata.columns"
   ]
  },
  {
   "cell_type": "code",
   "execution_count": 13,
   "metadata": {
    "collapsed": false
   },
   "outputs": [],
   "source": [
    "HRdata = HRdata[[u'satisfaction_level', u'last_evaluation', u'number_project', u'average_montly_hours',\n",
    "                 u'time_spend_company', u'Work_accident', u'promotion_last_5years', u'salesCat', u'salaryCat', u'sales', u'salary', u'left']]"
   ]
  },
  {
   "cell_type": "code",
   "execution_count": 14,
   "metadata": {
    "collapsed": false,
    "scrolled": false
   },
   "outputs": [
    {
     "data": {
      "image/png": "[encoded data removed]",
      "text/plain": [
       "<matplotlib.figure.Figure at 0x10f0ed110>"
      ]
     },
     "metadata": {},
     "output_type": "display_data"
    }
   ],
   "source": [
    "plt.figure(num=None, figsize=(12, 12), dpi=80, facecolor='w', edgecolor='k')\n",
    "\n",
    "tableau20 = [(31, 119, 180), (174, 199, 232), (255, 127, 14), (255, 187, 120),    \n",
    "             (44, 160, 44), (152, 223, 138), (214, 39, 40), (255, 152, 150),    \n",
    "             (148, 103, 189), (197, 176, 213), (140, 86, 75), (196, 156, 148),    \n",
    "             (227, 119, 194), (247, 182, 210), (127, 127, 127), (199, 199, 199),    \n",
    "             (188, 189, 34), (219, 219, 141), (23, 190, 207), (158, 218, 229)]\n",
    "for i in range(len(tableau20)):    \n",
    "    r, g, b = tableau20[i]    \n",
    "    tableau20[i] = (r / 255., g / 255., b / 255.)    \n",
    "\n",
    "y = HRdata.left\n",
    "\n",
    "for i, j in zip([u'satisfaction_level', u'last_evaluation', u'number_project', u'average_montly_hours',\n",
    "                 u'time_spend_company', u'Work_accident', u'promotion_last_5years', u'salesCat', u'salaryCat'], range(9)):\n",
    "    x = HRdata[i]\n",
    "\n",
    "    plt.subplot(int('33'+ str(j+1)))\n",
    "#     n, bins, patches = plt.hist(functionGroup.satisfaction_level, bins=np.arange(0, 10+0.1, 0.1), normed = None, facecolor = 'green', alpha = 0.5)\n",
    "#     y = mlab.normpdf(bins, functionGroup.satisfaction_level.mean(), functionGroup.satisfaction_level.std())\n",
    "#     l = plt.plot(bins, y, 'r--', linewidth = 1)\n",
    "    plt.scatter(x, y, marker='o', s=100, label=HRdata.sales, c = tableau20[:10])\n",
    "    plt.xlabel(str(i))\n",
    "    plt.ylabel('Left the company or not')\n",
    "#     plt.title('Histogram of x coordinates')\n",
    "#     plt.axis([functionGroup.satisfaction_level.mean() - functionGroup.satisfaction_level.std(),\n",
    "#               functionGroup.satisfaction_level.mean() + functionGroup.satisfaction_level.std(), 0, 8])\n",
    "#     plt.axis([0, 50, 0, n.max()])\n",
    "\n",
    "    plt.grid(True)\n",
    "plt.show()"
   ]
  },
  {
   "cell_type": "markdown",
   "metadata": {},
   "source": [
    "The above told us that relatively stronger predictors of attrition might consist of:\n",
    "- satisfaction level\n",
    "- performance (as evaluated in the last round of appraisal)\n",
    "- number of projects\n",
    "- average monthly hours\n",
    "- time spent in company"
   ]
  },
  {
   "cell_type": "code",
   "execution_count": 15,
   "metadata": {
    "collapsed": false
   },
   "outputs": [
    {
     "data": {
      "image/png": "[encoded data removed]",
      "text/plain": [
       "<matplotlib.figure.Figure at 0x113543d10>"
      ]
     },
     "metadata": {},
     "output_type": "display_data"
    }
   ],
   "source": [
    "plt.figure(num=None, figsize=(12, 12), dpi=80, facecolor='w', edgecolor='w')\n",
    "\n",
    "tableau20 = [(31, 119, 180), (174, 199, 232), (255, 127, 14), (255, 187, 120),    \n",
    "             (44, 160, 44), (152, 223, 138), (214, 39, 40), (255, 152, 150),    \n",
    "             (148, 103, 189), (197, 176, 213), (140, 86, 75), (196, 156, 148),    \n",
    "             (227, 119, 194), (247, 182, 210), (127, 127, 127), (199, 199, 199),    \n",
    "             (188, 189, 34), (219, 219, 141), (23, 190, 207), (158, 218, 229)]\n",
    "for i in range(len(tableau20)):    \n",
    "    r, g, b = tableau20[i]    \n",
    "    tableau20[i] = (r / 255., g / 255., b / 255.)    \n",
    "\n",
    "y = HRdata.left\n",
    "\n",
    "# [u'satisfaction_level', u'last_evaluation', u'number_project', u'average_montly_hours',\n",
    "# u'time_spend_company', u'Work_accident', u'promotion_last_5years', u'salesCat', u'salaryCat']\n",
    "x = HRdata['satisfaction_level']\n",
    "plt.scatter(x, y, marker='o', s=1000, label=HRdata.salary, c = [tableau20[0], tableau20[2], tableau20[4]], edgecolor = 'w', alpha = 0.2)\n",
    "plt.xlabel('Salary category')\n",
    "plt.ylabel('Left the company or not')\n",
    "\n",
    "plt.grid(True)\n",
    "plt.show()"
   ]
  },
  {
   "cell_type": "markdown",
   "metadata": {},
   "source": [
    "## Build models to predict attrition"
   ]
  },
  {
   "cell_type": "markdown",
   "metadata": {},
   "source": [
    "### 1. Make training and testing data"
   ]
  },
  {
   "cell_type": "code",
   "execution_count": 16,
   "metadata": {
    "collapsed": false
   },
   "outputs": [
    {
     "name": "stdout",
     "output_type": "stream",
     "text": [
      "(11999, 9)\n",
      "(3000, 9)\n",
      "(11999,)\n",
      "(3000,)\n"
     ]
    }
   ],
   "source": [
    "Y = HRdata.left\n",
    "X = HRdata.drop(['sales', 'salary', 'left'], axis = 1)\n",
    "X_train, X_test, Y_train, Y_test = cross_validation.train_test_split(X, Y, test_size=0.2, random_state=42)\n",
    "\n",
    "print X_train.shape\n",
    "print X_test.shape\n",
    "print Y_train.shape\n",
    "print Y_test.shape\n"
   ]
  },
  {
   "cell_type": "markdown",
   "metadata": {},
   "source": [
    "### 2. Set up model and cross-validation"
   ]
  },
  {
   "cell_type": "code",
   "execution_count": 17,
   "metadata": {
    "collapsed": false
   },
   "outputs": [],
   "source": [
    "# models = {\n",
    "#     'SVM': svm.SVC(degree=0.5),\n",
    "#     'linearSVC': svm.LinearSVC(C=0.01, penalty='l1', dual=False),\n",
    "#     'naive Bayes': GaussianNB(),\n",
    "#     'random forest': ensemble.RandomForestClassifier(n_estimators=100),\n",
    "#     'logistic regression': linear_model.LogisticRegression(),\n",
    "#     'decision tree': tree.DecisionTreeClassifier()\n",
    "# }\n",
    "\n",
    "cv10 = cross_validation.KFold(n=X_train.shape[0], n_folds=10)\n",
    "\n",
    "key_value_pairs = [('naive Bayes', GaussianNB()),\n",
    "                   ('logistic regression', linear_model.LogisticRegression()),\n",
    "                   ('SVM', svm.SVC(degree=0.5)),\n",
    "                   ('linearSVC', svm.LinearSVC(C=0.01, penalty='l1', dual=False)),\n",
    "                   ('decision tree', tree.DecisionTreeClassifier()),\n",
    "                   ('random forest', ensemble.RandomForestClassifier(n_estimators=100))\n",
    "                  ]\n",
    "models = collections.OrderedDict(key_value_pairs)"
   ]
  },
  {
   "cell_type": "code",
   "execution_count": 18,
   "metadata": {
    "collapsed": false
   },
   "outputs": [
    {
     "name": "stdout",
     "output_type": "stream",
     "text": [
      "GaussianNB(priors=None)\n",
      "LogisticRegression(C=1.0, class_weight=None, dual=False, fit_intercept=True,\n",
      "          intercept_scaling=1, max_iter=100, multi_class='ovr', n_jobs=1,\n",
      "          penalty='l2', random_state=None, solver='liblinear', tol=0.0001,\n",
      "          verbose=0, warm_start=False)\n",
      "SVC(C=1.0, cache_size=200, class_weight=None, coef0=0.0,\n",
      "  decision_function_shape=None, degree=0.5, gamma='auto', kernel='rbf',\n",
      "  max_iter=-1, probability=False, random_state=None, shrinking=True,\n",
      "  tol=0.001, verbose=False)\n",
      "LinearSVC(C=0.01, class_weight=None, dual=False, fit_intercept=True,\n",
      "     intercept_scaling=1, loss='squared_hinge', max_iter=1000,\n",
      "     multi_class='ovr', penalty='l1', random_state=None, tol=0.0001,\n",
      "     verbose=0)\n",
      "DecisionTreeClassifier(class_weight=None, criterion='gini', max_depth=None,\n",
      "            max_features=None, max_leaf_nodes=None,\n",
      "            min_impurity_split=1e-07, min_samples_leaf=1,\n",
      "            min_samples_split=2, min_weight_fraction_leaf=0.0,\n",
      "            presort=False, random_state=None, splitter='best')\n",
      "RandomForestClassifier(bootstrap=True, class_weight=None, criterion='gini',\n",
      "            max_depth=None, max_features='auto', max_leaf_nodes=None,\n",
      "            min_impurity_split=1e-07, min_samples_leaf=1,\n",
      "            min_samples_split=2, min_weight_fraction_leaf=0.0,\n",
      "            n_estimators=100, n_jobs=1, oob_score=False, random_state=None,\n",
      "            verbose=0, warm_start=False)\n"
     ]
    }
   ],
   "source": [
    "for i in models.values():\n",
    "    print i"
   ]
  },
  {
   "cell_type": "markdown",
   "metadata": {},
   "source": [
    "#### Plan:\n",
    "1. Use one of the models, e.g. random forest first.\n",
    "2. Tune parameters on the model e.g. reg parameter for the logistic regression model. Do a grid search if necessary.\n",
    "3. "
   ]
  },
  {
   "cell_type": "markdown",
   "metadata": {},
   "source": [
    "### 3. Perform cross-validation."
   ]
  },
  {
   "cell_type": "code",
   "execution_count": 19,
   "metadata": {
    "collapsed": false
   },
   "outputs": [
    {
     "data": {
      "text/html": [
       "<div>\n",
       "<table border=\"1\" class=\"dataframe\">\n",
       "  <thead>\n",
       "    <tr style=\"text-align: right;\">\n",
       "      <th></th>\n",
       "      <th>accuracy</th>\n",
       "      <th>precision</th>\n",
       "      <th>recall</th>\n",
       "      <th>sensitivity</th>\n",
       "      <th>specificity</th>\n",
       "    </tr>\n",
       "  </thead>\n",
       "  <tbody>\n",
       "    <tr>\n",
       "      <th>0</th>\n",
       "      <td>0.990833</td>\n",
       "      <td>0.996491</td>\n",
       "      <td>0.965986</td>\n",
       "      <td>0.965986</td>\n",
       "      <td>0.998896</td>\n",
       "    </tr>\n",
       "    <tr>\n",
       "      <th>1</th>\n",
       "      <td>0.991667</td>\n",
       "      <td>1.000000</td>\n",
       "      <td>0.962687</td>\n",
       "      <td>0.962687</td>\n",
       "      <td>1.000000</td>\n",
       "    </tr>\n",
       "    <tr>\n",
       "      <th>2</th>\n",
       "      <td>0.990000</td>\n",
       "      <td>0.996466</td>\n",
       "      <td>0.962457</td>\n",
       "      <td>0.962457</td>\n",
       "      <td>0.998897</td>\n",
       "    </tr>\n",
       "    <tr>\n",
       "      <th>3</th>\n",
       "      <td>0.990833</td>\n",
       "      <td>1.000000</td>\n",
       "      <td>0.959410</td>\n",
       "      <td>0.959410</td>\n",
       "      <td>1.000000</td>\n",
       "    </tr>\n",
       "    <tr>\n",
       "      <th>4</th>\n",
       "      <td>0.989167</td>\n",
       "      <td>0.996491</td>\n",
       "      <td>0.959459</td>\n",
       "      <td>0.959459</td>\n",
       "      <td>0.998894</td>\n",
       "    </tr>\n",
       "    <tr>\n",
       "      <th>5</th>\n",
       "      <td>0.989167</td>\n",
       "      <td>0.989796</td>\n",
       "      <td>0.966777</td>\n",
       "      <td>0.966777</td>\n",
       "      <td>0.996663</td>\n",
       "    </tr>\n",
       "    <tr>\n",
       "      <th>6</th>\n",
       "      <td>0.995000</td>\n",
       "      <td>0.996296</td>\n",
       "      <td>0.981752</td>\n",
       "      <td>0.981752</td>\n",
       "      <td>0.998920</td>\n",
       "    </tr>\n",
       "    <tr>\n",
       "      <th>7</th>\n",
       "      <td>0.993333</td>\n",
       "      <td>1.000000</td>\n",
       "      <td>0.973244</td>\n",
       "      <td>0.973244</td>\n",
       "      <td>1.000000</td>\n",
       "    </tr>\n",
       "    <tr>\n",
       "      <th>8</th>\n",
       "      <td>0.992500</td>\n",
       "      <td>1.000000</td>\n",
       "      <td>0.970297</td>\n",
       "      <td>0.970297</td>\n",
       "      <td>1.000000</td>\n",
       "    </tr>\n",
       "    <tr>\n",
       "      <th>9</th>\n",
       "      <td>0.994162</td>\n",
       "      <td>0.992395</td>\n",
       "      <td>0.981203</td>\n",
       "      <td>0.981203</td>\n",
       "      <td>0.997856</td>\n",
       "    </tr>\n",
       "  </tbody>\n",
       "</table>\n",
       "</div>"
      ],
      "text/plain": [
       "   accuracy  precision    recall  sensitivity  specificity\n",
       "0  0.990833   0.996491  0.965986     0.965986     0.998896\n",
       "1  0.991667   1.000000  0.962687     0.962687     1.000000\n",
       "2  0.990000   0.996466  0.962457     0.962457     0.998897\n",
       "3  0.990833   1.000000  0.959410     0.959410     1.000000\n",
       "4  0.989167   0.996491  0.959459     0.959459     0.998894\n",
       "5  0.989167   0.989796  0.966777     0.966777     0.996663\n",
       "6  0.995000   0.996296  0.981752     0.981752     0.998920\n",
       "7  0.993333   1.000000  0.973244     0.973244     1.000000\n",
       "8  0.992500   1.000000  0.970297     0.970297     1.000000\n",
       "9  0.994162   0.992395  0.981203     0.981203     0.997856"
      ]
     },
     "execution_count": 19,
     "metadata": {},
     "output_type": "execute_result"
    }
   ],
   "source": [
    "model = models.get('random forest') # RF\n",
    "Y_pred, Y_true = performCV(X_train, Y_train, cv=cv10, model = model)\n",
    "Y_pred_unpack, Y_true_unpack = unpackCVResults(Y_pred, Y_true)\n",
    "cvScore = getCVScores(Y_pred_unpack, Y_true_unpack)\n",
    "\n",
    "cvScore\n"
   ]
  },
  {
   "cell_type": "code",
   "execution_count": 20,
   "metadata": {
    "collapsed": false
   },
   "outputs": [
    {
     "name": "stdout",
     "output_type": "stream",
     "text": [
      "Model:  RandomForestClassifier(bootstrap=True, class_weight=None, criterion='gini',\n",
      "            max_depth=None, max_features='auto', max_leaf_nodes=None,\n",
      "            min_impurity_split=1e-07, min_samples_leaf=1,\n",
      "            min_samples_split=2, min_weight_fraction_leaf=0.0,\n",
      "            n_estimators=100, n_jobs=1, oob_score=False, random_state=None,\n",
      "            verbose=0, warm_start=False)\n",
      "Mean CV accuracy:  0.99166618015\n",
      "Mean CV precision:  0.996793653916\n",
      "Mean CV recall:  0.9683272771\n"
     ]
    }
   ],
   "source": [
    "print 'Model: ', model\n",
    "print 'Mean CV accuracy: ', cvScore.accuracy.mean()\n",
    "print 'Mean CV precision: ', cvScore.precision.mean()\n",
    "print 'Mean CV recall: ', cvScore.recall.mean()"
   ]
  },
  {
   "cell_type": "markdown",
   "metadata": {},
   "source": [
    "### 4. Apply on unseen (test) data"
   ]
  },
  {
   "cell_type": "code",
   "execution_count": 21,
   "metadata": {
    "collapsed": false
   },
   "outputs": [
    {
     "name": "stdout",
     "output_type": "stream",
     "text": [
      "Model:  RandomForestClassifier(bootstrap=True, class_weight=None, criterion='gini',\n",
      "            max_depth=None, max_features='auto', max_leaf_nodes=None,\n",
      "            min_impurity_split=1e-07, min_samples_leaf=1,\n",
      "            min_samples_split=2, min_weight_fraction_leaf=0.0,\n",
      "            n_estimators=100, n_jobs=1, oob_score=False, random_state=None,\n",
      "            verbose=0, warm_start=False)\n",
      "Testing accuracy:  0.989\n",
      "Testing precision:  0.98981077147\n",
      "Testing recall:  0.963172804533\n"
     ]
    }
   ],
   "source": [
    "Y_test_pred = model.fit(X_train, Y_train).predict_proba(X_test)\n",
    "Y_test_pred_unpack = [pred_val.argmax() for pred_val in Y_test_pred]\n",
    "\n",
    "cm_test = metrics.confusion_matrix(y_true = Y_test, y_pred = Y_test_pred_unpack, labels=None)\n",
    "accuracy, sensitivity, specificity, precision = evalModel(cm_test)\n",
    "print 'Model: ', model\n",
    "print 'Testing accuracy: ', accuracy\n",
    "print 'Testing precision: ', precision\n",
    "print 'Testing recall: ', sensitivity"
   ]
  },
  {
   "cell_type": "markdown",
   "metadata": {},
   "source": [
    "## Feature importance\n",
    "\n",
    "### Get feature ranking after fitting the RF model"
   ]
  },
  {
   "cell_type": "code",
   "execution_count": 22,
   "metadata": {
    "collapsed": false
   },
   "outputs": [],
   "source": [
    "model = models.get('random forest') # RF\n",
    "Y_test_pred_featImp = model.fit(X_train, Y_train)\n",
    "\n",
    "importances = model.feature_importances_\n",
    "std = np.std([indivTree.feature_importances_ for indivTree in model.estimators_],\n",
    "             axis=0)\n",
    "indices = np.argsort(importances)[::-1]\n"
   ]
  },
  {
   "cell_type": "code",
   "execution_count": 23,
   "metadata": {
    "collapsed": false
   },
   "outputs": [
    {
     "name": "stdout",
     "output_type": "stream",
     "text": [
      "Index([u'satisfaction_level', u'last_evaluation', u'number_project',\n",
      "       u'average_montly_hours', u'time_spend_company', u'Work_accident',\n",
      "       u'promotion_last_5years', u'salesCat', u'salaryCat'],\n",
      "      dtype='object')\n",
      "[ 0.33004149  0.11929448  0.18942487  0.15292552  0.1803053   0.00604286\n",
      "  0.0009842   0.01224269  0.0087386 ]\n",
      "[0 2 4 3 1 7 8 5 6]\n"
     ]
    }
   ],
   "source": [
    "print X_train.columns\n",
    "print importances\n",
    "print indices"
   ]
  },
  {
   "cell_type": "code",
   "execution_count": 24,
   "metadata": {
    "collapsed": false
   },
   "outputs": [
    {
     "data": {
      "text/plain": [
       "100"
      ]
     },
     "execution_count": 24,
     "metadata": {},
     "output_type": "execute_result"
    }
   ],
   "source": [
    "len(model.estimators_) # We have a default of 100 trees in this Random Forest."
   ]
  },
  {
   "cell_type": "code",
   "execution_count": 25,
   "metadata": {
    "collapsed": false,
    "scrolled": true
   },
   "outputs": [
    {
     "name": "stdout",
     "output_type": "stream",
     "text": [
      "3\n",
      "6\n",
      "\n",
      "0\n",
      "6\n",
      "\n",
      "0\n",
      "6\n",
      "\n",
      "0\n",
      "6\n",
      "\n",
      "2\n",
      "6\n",
      "\n",
      "0\n",
      "6\n",
      "\n",
      "0\n",
      "6\n",
      "\n",
      "0\n",
      "6\n",
      "\n",
      "0\n",
      "6\n",
      "\n",
      "0\n",
      "5\n",
      "\n"
     ]
    }
   ],
   "source": [
    "for indivTree in model.estimators_[:10]:\n",
    "    print indivTree.feature_importances_.argmax() # index of the feature with the highest importance\n",
    "    print indivTree.feature_importances_.argmin() # index of the feature with the lowest importance\n",
    "    print ''"
   ]
  },
  {
   "cell_type": "code",
   "execution_count": 26,
   "metadata": {
    "collapsed": false
   },
   "outputs": [
    {
     "name": "stdout",
     "output_type": "stream",
     "text": [
      "Feature ranking:\n",
      "1. satisfaction_level (0.330041)\n",
      "2. number_project (0.189425)\n",
      "3. time_spend_company (0.180305)\n",
      "4. average_montly_hours (0.152926)\n",
      "5. last_evaluation (0.119294)\n",
      "6. salesCat (0.012243)\n",
      "7. salaryCat (0.008739)\n",
      "8. Work_accident (0.006043)\n",
      "9. promotion_last_5years (0.000984)\n"
     ]
    }
   ],
   "source": [
    "# Print the feature ranking\n",
    "print(\"Feature ranking:\")\n",
    "\n",
    "for f in range(X_train.shape[1]):\n",
    "    print(\"%d. %s (%f)\" % (f + 1, X_train.columns[indices[f]], importances[indices[f]]))"
   ]
  },
  {
   "cell_type": "code",
   "execution_count": 27,
   "metadata": {
    "collapsed": false
   },
   "outputs": [
    {
     "data": {
      "image/png": "[encoded data removed]",
      "text/plain": [
       "<matplotlib.figure.Figure at 0x1133f9650>"
      ]
     },
     "metadata": {},
     "output_type": "display_data"
    }
   ],
   "source": [
    "# Plot the feature importances of the forest\n",
    "fig, ax = plt.subplots()\n",
    "# plt.figure() # If this line is included, an empty plot appears.\n",
    "plt.title(\"Feature importances\")\n",
    "plt.bar(range(X_train.shape[1]), importances[indices],\n",
    "       color=\"g\", yerr=std[indices], align=\"center\")\n",
    "plt.xticks(range(X_train.shape[1]), indices, rotation=90)\n",
    "plt.xlim([-1, X_train.shape[1]])\n",
    "ax.set_xticklabels(X_train.columns[indices], rotation=90, size=15)\n",
    "plt.show() # If this line is not included, a bunch of msgs appear"
   ]
  },
  {
   "cell_type": "markdown",
   "metadata": {},
   "source": [
    "### Get feature ranking after fitting an SVM model"
   ]
  },
  {
   "cell_type": "code",
   "execution_count": 28,
   "metadata": {
    "collapsed": false
   },
   "outputs": [],
   "source": [
    "model = models.get('linearSVC')\n",
    "lsvc = model.fit(X_train, Y_train)\n",
    "model_SelectFeat = SelectFromModel(lsvc, prefit=True)\n",
    "X_new = model_SelectFeat.transform(X_train)\n",
    "\n",
    "# importances = model.feature_importances_\n",
    "# std = np.std([tree.feature_importances_ for tree in model.estimators_],\n",
    "#              axis=0)\n",
    "# indices = np.argsort(importances)[::-1]\n",
    "\n"
   ]
  },
  {
   "cell_type": "code",
   "execution_count": 29,
   "metadata": {
    "collapsed": false,
    "scrolled": true
   },
   "outputs": [
    {
     "name": "stdout",
     "output_type": "stream",
     "text": [
      "(11999, 7)\n"
     ]
    }
   ],
   "source": [
    "print X_new.shape"
   ]
  },
  {
   "cell_type": "code",
   "execution_count": 30,
   "metadata": {
    "collapsed": false
   },
   "outputs": [
    {
     "name": "stdout",
     "output_type": "stream",
     "text": [
      "[ True False  True  True  True  True  True  True False]\n",
      "[0 2 3 4 5 6 7]\n",
      "Index([u'satisfaction_level', u'number_project', u'average_montly_hours',\n",
      "       u'time_spend_company', u'Work_accident', u'promotion_last_5years',\n",
      "       u'salesCat'],\n",
      "      dtype='object')\n"
     ]
    }
   ],
   "source": [
    "print model_SelectFeat.get_support()\n",
    "print model_SelectFeat.get_support(indices=True)\n",
    "print X_train.columns[model_SelectFeat.get_support(indices=True)]"
   ]
  },
  {
   "cell_type": "markdown",
   "metadata": {
    "collapsed": false
   },
   "source": [
    "The above are features selected by linearSVC (L1 regularization).\n",
    "Compare with RF features ranked by Gini importance:"
   ]
  },
  {
   "cell_type": "code",
   "execution_count": 31,
   "metadata": {
    "collapsed": false
   },
   "outputs": [
    {
     "name": "stdout",
     "output_type": "stream",
     "text": [
      "Feature ranking:\n",
      "1. satisfaction_level (0.330041)\n",
      "2. number_project (0.189425)\n",
      "3. time_spend_company (0.180305)\n",
      "4. average_montly_hours (0.152926)\n",
      "5. last_evaluation (0.119294)\n",
      "6. salesCat (0.012243)\n",
      "7. salaryCat (0.008739)\n",
      "8. Work_accident (0.006043)\n",
      "9. promotion_last_5years (0.000984)\n"
     ]
    }
   ],
   "source": [
    "# Print the feature ranking\n",
    "print(\"Feature ranking:\")\n",
    "\n",
    "for f in range(X_train.shape[1]):\n",
    "    print(\"%d. %s (%f)\" % (f + 1, X_train.columns[indices[f]], importances[indices[f]]))"
   ]
  },
  {
   "cell_type": "markdown",
   "metadata": {
    "collapsed": false,
    "scrolled": true
   },
   "source": [
    "- The top features are more or less the same.\n",
    "- The two least important features from RF are selected by linearSVC/L1.\n",
    "- The feature 'last evaluation', deemed moderately important by RF, is not selected by linearSVC/L1."
   ]
  },
  {
   "cell_type": "markdown",
   "metadata": {},
   "source": [
    "## Plot an ROC curve\n",
    "\n",
    "### Using decision_function()"
   ]
  },
  {
   "cell_type": "code",
   "execution_count": 32,
   "metadata": {
    "collapsed": false
   },
   "outputs": [
    {
     "data": {
      "image/png": "[encoded data removed]",
      "text/plain": [
       "<matplotlib.figure.Figure at 0x112de67d0>"
      ]
     },
     "metadata": {},
     "output_type": "display_data"
    },
    {
     "name": "stdout",
     "output_type": "stream",
     "text": [
      "[ 1.70652257  0.70652257  0.34551078  0.34538524  0.34460487  0.32218542\n",
      "  0.31616488  0.30727413  0.30612924  0.30168706]\n"
     ]
    }
   ],
   "source": [
    "model = models.values()[3] # LR\n",
    "Y_test_pred_roc = model.fit(X_train, Y_train).decision_function(X_test)\n",
    "\n",
    "fpr, tpr, thresholds = metrics.roc_curve(Y_test,Y_test_pred_roc)\n",
    "roc_auc = metrics.auc(fpr,tpr)\n",
    "\n",
    "# Plot ROC\n",
    "plt.title('Receiver Operating Characteristic')\n",
    "plt.plot(fpr, tpr, 'b',label='AUC = %0.2f'% roc_auc)\n",
    "plt.legend(loc='lower right')\n",
    "plt.plot([0,1],[0,1],'r--')\n",
    "plt.xlim([-0.1,1.0])\n",
    "plt.ylim([-0.1,1.01])\n",
    "plt.ylabel('True Positive Rate (Sensitivity)')\n",
    "plt.xlabel('False Positive Rate (1-Specificity)')\n",
    "plt.show()\n",
    "\n",
    "print thresholds[:10]"
   ]
  },
  {
   "cell_type": "code",
   "execution_count": 34,
   "metadata": {
    "collapsed": false
   },
   "outputs": [
    {
     "data": {
      "image/png": "[encoded data removed]",
      "text/plain": [
       "<matplotlib.figure.Figure at 0x11354abd0>"
      ]
     },
     "metadata": {},
     "output_type": "display_data"
    }
   ],
   "source": [
    "model = models.get('SVM')\n",
    "Y_test_pred_roc = model.fit(X_train, Y_train).decision_function(X_test)\n",
    "\n",
    "fpr, tpr, thresholds = metrics.roc_curve(Y_test,Y_test_pred_roc)\n",
    "roc_auc = metrics.auc(fpr,tpr)\n",
    "\n",
    "# Plot ROC\n",
    "plt.title('Receiver Operating Characteristic')\n",
    "plt.plot(fpr, tpr, 'b',label='AUC = %0.2f'% roc_auc)\n",
    "plt.legend(loc='lower right')\n",
    "plt.plot([0,1],[0,1],'r--')\n",
    "plt.xlim([-0.1,1.0])\n",
    "plt.ylim([-0.1,1.01])\n",
    "plt.ylabel('True Positive Rate (Sensitivity)')\n",
    "plt.xlabel('False Positive Rate (1-Specificity)')\n",
    "plt.show()"
   ]
  },
  {
   "cell_type": "markdown",
   "metadata": {},
   "source": [
    "### Using RF's predict_proba()"
   ]
  },
  {
   "cell_type": "code",
   "execution_count": 35,
   "metadata": {
    "collapsed": false
   },
   "outputs": [
    {
     "data": {
      "image/png": "[encoded data removed]",
      "text/plain": [
       "<matplotlib.figure.Figure at 0x1134dedd0>"
      ]
     },
     "metadata": {},
     "output_type": "display_data"
    }
   ],
   "source": [
    "model = models.get('random forest')\n",
    "Y_test_pred_roc = model.fit(X_train, Y_train).predict_proba(X_test)[:, 1]\n",
    "# y_pred_rf_lm = rf_lm.predict_proba(rf_enc.transform(rf.apply(X_test)))[:, 1]\n",
    "fpr, tpr, thresholds = metrics.roc_curve(Y_test,Y_test_pred_roc)\n",
    "roc_auc = metrics.auc(fpr,tpr)\n",
    "# fpr_rf_lm, tpr_rf_lm, _ = roc_curve(y_test, y_pred_rf_lm)\n",
    "\n",
    "# Plot ROC\n",
    "plt.title('Receiver Operating Characteristic')\n",
    "plt.plot(fpr, tpr, 'b',label='AUC = %0.2f'% roc_auc)\n",
    "plt.legend(loc='lower right')\n",
    "plt.plot([0,1],[0,1],'r--')\n",
    "plt.xlim([-0.1,1.0])\n",
    "plt.ylim([-0.1,1.01])\n",
    "plt.ylabel('True Positive Rate (Sensitivity)')\n",
    "plt.xlabel('False Positive Rate (1-Specificity)')\n",
    "plt.show()"
   ]
  },
  {
   "cell_type": "markdown",
   "metadata": {},
   "source": [
    "**Interpreting thresholds**"
   ]
  },
  {
   "cell_type": "code",
   "execution_count": null,
   "metadata": {
    "collapsed": false
   },
   "outputs": [],
   "source": [
    "thresholds = [0.2,0.3,0.4,0.5,0.6,0.7,0.8,0.9, 0.95]\n",
    "\n",
    "model = models.values()[3]\n",
    "Y_test_pred_roc = model.fit(X_train, Y_train).predict_proba(X_test)\n",
    "\n",
    "plt.figure(figsize=(10,10))\n",
    "\n",
    "j = 1\n",
    "for i in thresholds:\n",
    "    Y_test_pred_roc_Class1 = Y_test_pred_roc[:,1] > i\n",
    "    \n",
    "    plt.subplot(3,3,j)\n",
    "    j += 1\n",
    "    \n",
    "    cm = metrics.confusion_matrix(Y_test,Y_test_pred_roc_Class1)\n",
    "    np.set_printoptions(precision=2)\n",
    "    accuracy, sensitivity, specificity, precision = evalModel(cm)\n",
    "    print \"Threshold: \", i\n",
    "    print \"True positive rate (Sensitivity) in the testing dataset: \", sensitivity\n",
    "    print \"False positive rate (1-specificity)  in the testing dataset: \", 1-specificity\n",
    "    print ''"
   ]
  },
  {
   "cell_type": "markdown",
   "metadata": {},
   "source": [
    "## Tune model parameters through gridsearch"
   ]
  },
  {
   "cell_type": "markdown",
   "metadata": {},
   "source": [
    "### Regular grid search"
   ]
  },
  {
   "cell_type": "code",
   "execution_count": null,
   "metadata": {
    "collapsed": false
   },
   "outputs": [],
   "source": [
    "model = models.values()[3] # \n",
    "\n",
    "parameters = {'penalty':('l1', 'l2'),\n",
    "              'C':[0.01, 0.1, 1, 10]}\n",
    "\n",
    "model = model_selection.GridSearchCV(estimator = model,\n",
    "                                     param_grid = parameters,\n",
    "                                     cv = 5)\n",
    "Y_test_gs = model.fit(X_train, Y_train)\n",
    "\n",
    "# cm_test = metrics.confusion_matrix(y_true = Y_test, y_pred = Y_test_pred_unpack, labels=None)\n",
    "# accuracy, sensitivity, specificity, precision = evalModel(cm_test)\n",
    "# print 'Model: ', model\n",
    "# print 'Testing accuracy: ', accuracy\n",
    "# print 'Testing precision: ', precision\n",
    "# print 'Testing recall: ', sensitivity"
   ]
  },
  {
   "cell_type": "code",
   "execution_count": null,
   "metadata": {
    "collapsed": false
   },
   "outputs": [],
   "source": [
    "print Y_test_gs.best_params_"
   ]
  },
  {
   "cell_type": "code",
   "execution_count": null,
   "metadata": {
    "collapsed": false
   },
   "outputs": [],
   "source": [
    "print Y_test_gs.cv_results_['params']\n",
    "print Y_test_gs.cv_results_['mean_test_score']\n",
    "print Y_test_gs.cv_results_['std_test_score']"
   ]
  },
  {
   "cell_type": "markdown",
   "metadata": {
    "collapsed": false
   },
   "source": [
    "### Grid search with \"recall\" as metric"
   ]
  },
  {
   "cell_type": "code",
   "execution_count": null,
   "metadata": {
    "collapsed": false
   },
   "outputs": [],
   "source": [
    "model = models.values()[3] # \n",
    "\n",
    "parameters = {'penalty':('l1', 'l2'),\n",
    "              'C':[0.01, 0.1, 1, 10]}\n",
    "\n",
    "model = model_selection.GridSearchCV(estimator = model,\n",
    "                                     param_grid = parameters,\n",
    "                                     cv = 5,\n",
    "                                     scoring = 'recall')\n",
    "Y_test_gs = model.fit(X_train, Y_train)"
   ]
  },
  {
   "cell_type": "code",
   "execution_count": null,
   "metadata": {
    "collapsed": false
   },
   "outputs": [],
   "source": [
    "print Y_test_gs.best_params_\n",
    "print Y_test_gs.cv_results_['params']\n",
    "print Y_test_gs.cv_results_['mean_test_score']\n",
    "print Y_test_gs.cv_results_['std_test_score']"
   ]
  },
  {
   "cell_type": "markdown",
   "metadata": {
    "collapsed": false
   },
   "source": [
    "### String value for the \"scoring\" parameter\n",
    "The \"scoring\" parameter seems to take in a bunch of different strings, e.g.\n",
    "1. 'recall'\n",
    "2. 'recall_score' ?\n",
    "3. 'recall_macro' ?\n",
    "4. 'recall_micro'... ?\n",
    "\n",
    "By throwing an error, we finally learn what kind of values \"scoring\" accepts."
   ]
  },
  {
   "cell_type": "code",
   "execution_count": null,
   "metadata": {
    "collapsed": false,
    "scrolled": true
   },
   "outputs": [],
   "source": [
    "model = models.values()[3] # \n",
    "\n",
    "parameters = {'penalty':('l1', 'l2'),\n",
    "              'C':[0.01, 0.1, 1, 10]}\n",
    "\n",
    "model = model_selection.GridSearchCV(estimator = model,\n",
    "                                     param_grid = parameters,\n",
    "                                     cv = 5,\n",
    "                                     scoring = 'recall_score')\n",
    "Y_test_gs = model.fit(X_train, Y_train)"
   ]
  },
  {
   "cell_type": "markdown",
   "metadata": {},
   "source": [
    "## An investigation of the predict_proba() and decision_function() functions\n",
    "\n",
    "After fitting an sklearn model, there are three options:\n",
    "1. Predict outright with cv / unseen data.\n",
    "2. Predict the probability\n",
    "3. Apply a decision function.\n",
    "\n",
    "Note that a decision function in SVM outputs the distance from the decision boundary."
   ]
  },
  {
   "cell_type": "code",
   "execution_count": null,
   "metadata": {
    "collapsed": false
   },
   "outputs": [],
   "source": [
    "# Using logistic regression as the model (rf doesn't have decision_function())\n",
    "model_tmp = models.values()[3]\n",
    "\n",
    "# Create training and cv data:\n",
    "X_trtmp = X_train.iloc[list(cv10)[0][0]]\n",
    "Y_trtmp = Y_train.iloc[list(cv10)[0][0]]\n",
    "X_cvtmp = X_train.iloc[list(cv10)[0][1]]\n",
    "Y_cvtmp = Y_train.iloc[list(cv10)[0][1]]\n",
    "\n",
    "# After fitting the model, go through each of the three styles of prediction\n",
    "predtmp1 = model_tmp.fit(X_trtmp, Y_trtmp).predict(X_cvtmp)\n",
    "predtmp2 = model_tmp.fit(X_trtmp, Y_trtmp).predict_proba(X_cvtmp)\n",
    "predtmp3 = model_tmp.fit(X_trtmp, Y_trtmp).decision_function(X_cvtmp)\n",
    "\n",
    "# Verify the relationship between these three styles of prediction\n",
    "Y_predtmp1 = predtmp1\n",
    "Y_predtmp2 = [yp.argmax() for yp in predtmp2]\n",
    "Y_predtmp3 = [0 if yp<0 else 1 for yp in predtmp3]\n",
    "\n"
   ]
  },
  {
   "cell_type": "code",
   "execution_count": null,
   "metadata": {
    "collapsed": false
   },
   "outputs": [],
   "source": [
    "print predtmp1\n",
    "print predtmp2\n",
    "print predtmp3"
   ]
  },
  {
   "cell_type": "markdown",
   "metadata": {},
   "source": [
    "#### predict_proba() outputs the following:\n",
    "- [[sample1_class1_proba, sample1_class2_proba], [sample2_class1_proba, sample2_class2_proba], [sample3_class1_proba, sample3_class2_proba] ...]\n",
    "\n",
    "#### decision_function() outputs the following:\n",
    "- for each sample, a number that is >0 if class1 and <0 if class0"
   ]
  },
  {
   "cell_type": "code",
   "execution_count": null,
   "metadata": {
    "collapsed": false
   },
   "outputs": [],
   "source": [
    "print len(Y_predtmp1)\n",
    "print sum(Y_predtmp1 == Y_predtmp2)\n",
    "print sum(Y_predtmp1 == Y_predtmp3)\n"
   ]
  },
  {
   "cell_type": "markdown",
   "metadata": {
    "collapsed": true
   },
   "source": [
    "After converting predict_proba() and decision_function() outputs to, essentially, predict() outputs, one can see it's all the same."
   ]
  },
  {
   "cell_type": "code",
   "execution_count": null,
   "metadata": {
    "collapsed": false
   },
   "outputs": [],
   "source": []
  },
  {
   "cell_type": "code",
   "execution_count": null,
   "metadata": {
    "collapsed": true
   },
   "outputs": [],
   "source": []
  }
 ],
 "metadata": {
  "kernelspec": {
   "display_name": "Python 2",
   "language": "python",
   "name": "python2"
  },
  "language_info": {
   "codemirror_mode": {
    "name": "ipython",
    "version": 2
   },
   "file_extension": ".py",
   "mimetype": "text/x-python",
   "name": "python",
   "nbconvert_exporter": "python",
   "pygments_lexer": "ipython2",
   "version": "2.7.13"
  }
 },
 "nbformat": 4,
 "nbformat_minor": 0
}
